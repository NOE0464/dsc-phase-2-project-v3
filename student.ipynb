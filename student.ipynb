{
 "cells": [
  {
   "cell_type": "markdown",
   "metadata": {},
   "source": [
    "## Final Project Submission\n",
    "\n",
    "Please fill out:\n",
    "* Student names: Christopher Noel, Margaret Nyairo, Victor Masinde, James Ngumo, Anthony Ekeno. \n",
    "* Student pace: full time \n",
    "* Instructor name: Maryann Mwikali\n"
   ]
  },
  {
   "cell_type": "markdown",
   "metadata": {},
   "source": [
    " Market Analysis & Insights For Strategic Movie Production\n",
    "\n",
    "## Business Understanding\n",
    "\n",
    "### Overview\n",
    "This project is designed to aid a company's venture into the movie production industry by launching a new studio. Through comprehensive data analysis, the project will identify current trends and provide actionable insights from box office data. This information will guide the company in determining the types of movies that are most successful in today’s market, thereby supporting strategic content creation and maximizing box office returns\n",
    "\n",
    "###  The Problem Statement\n",
    "The company needs to pinpoint what types of movies are most successful in the current market to propel the new studio's launch. Specifically, we aim to:\n",
    "\n",
    "1. **Identify the Genres Performing Well at the Box Office**: Determine which movie genres are currently popular and yield high box office returns.\n",
    "   \n",
    "2. **Analyze Movie Budgets and Profitability**: Evaluate the relationship between production budgets, returns, and overall profitability to find the optimal investment range.\n",
    "   \n",
    "3. **Assess Audience Demographics Driving Success**: Understand which demographic segments are contributing significantly to box office revenues.\n",
    "   \n",
    "4. **Recommend Optimal Release Seasons or Windows**: Identify the best times of the year for releasing movies to maximize box office performance.\n",
    "\n",
    "### Main objectives\n",
    "To identify the most successful types of films currently at the box office and translate these insights into actionable strategies that guide the new movie studio's production choices, ensuring competitive and commercial success in the film industry.\n"
   ]
  },
  {
   "cell_type": "markdown",
   "metadata": {},
   "source": [
    " ## Data Wrangling\n",
    " "
   ]
  },
  {
   "cell_type": "markdown",
   "metadata": {},
   "source": [
    "\n",
    " ### import libraries\n",
    "First we import the necessary packages for Exploratory data analysis.\n"
   ]
  },
  {
   "cell_type": "code",
   "execution_count": null,
   "metadata": {},
   "outputs": [],
   "source": [
    "# Importing library.\n",
    "import pandas as pd\n",
    "import numpy as np\n",
    "import matplotlib.pyplot as plt\n",
    "import seaborn as sns\n",
    "import sqlite3 \n",
    "\n",
    "%matplotlib inline\n"
   ]
  },
  {
   "cell_type": "markdown",
   "metadata": {},
   "source": [
    "### Exploratory Data Analysis\n",
    "\n",
    "The data used in this analysis contains data collected from various popular movie sites such as Box Office Mojo, IMDb, rotten tomato reviews. It contains detailed information on movie titles, actors, directors, box office earnings, and movie ratings.\n",
    "1. im.db\n",
    "\n",
    "2. box office mojo\n",
    "\n",
    "3. movie budgets \n",
    "\n",
    "4. movie info \n",
    "\n",
    "\n",
    " "
   ]
  },
  {
   "cell_type": "markdown",
   "metadata": {},
   "source": [
    "### Import Data sets\n",
    "\n"
   ]
  },
  {
   "cell_type": "markdown",
   "metadata": {},
   "source": [
    "##### First Dataset - im.db\n",
    "This dataset will form root basis of analysis"
   ]
  },
  {
   "cell_type": "code",
   "execution_count": null,
   "metadata": {},
   "outputs": [],
   "source": [
    "#FIRST DATA SET IM.DB- \n",
    "\n",
    "#establishing a connection with database.\n",
    "conn = sqlite3.connect(\"zippedData/im.db\")\n",
    "cur = conn.cursor()\n",
    "\n",
    "#opening the database\n",
    "pd.read_sql(\"\"\"\n",
    "SELECT*\n",
    "FROM sqlite_master\n",
    "\"\"\",conn) "
   ]
  },
  {
   "cell_type": "markdown",
   "metadata": {},
   "source": [
    "###### An Entity Relationship Diagram [ERD]\n",
    "-Below is an ERD explaining further contents contained in tables shown above\n",
    "\n",
    "-After studying each column name in the ERD below, we discover that we are interested in the contenct of two tables. These are; **movie_basics and movie_ratings**  since they have contents that will be vital to our analysis.\n",
    "\n",
    "-Analyse structure of the tables by using **JOIN** statement to combine them."
   ]
  },
  {
   "cell_type": "markdown",
   "metadata": {},
   "source": [
    "![Alt text](movie_data_erd.jpeg)"
   ]
  },
  {
   "cell_type": "markdown",
   "metadata": {},
   "source": [
    "######  JOIN tables[ movie basics + movie ratings]  to create a new dataframe  **imdb**"
   ]
  },
  {
   "cell_type": "code",
   "execution_count": null,
   "metadata": {},
   "outputs": [],
   "source": [
    "## merge required tables then convert it to a dataframe\n",
    "#Select relevant information from movie_basics table\n",
    "#JOIN to movie_ratings\n",
    "\n",
    "imdb = pd.read_sql(\"\"\"\n",
    "SELECT primary_title,start_year,runtime_minutes,genres,averagerating\n",
    "FROM movie_basics\n",
    "JOIN movie_ratings\n",
    "USING(\"movie_id\")\n",
    "\"\"\",conn)\n",
    "imdb"
   ]
  },
  {
   "cell_type": "markdown",
   "metadata": {},
   "source": [
    "##### SECOND DATASET  -box office mojo gross\n",
    "Essential for understanding box office success and profitability."
   ]
  },
  {
   "cell_type": "code",
   "execution_count": null,
   "metadata": {},
   "outputs": [],
   "source": [
    "## SECOND DATASET \n",
    "gross = pd.read_csv(\"zippedData/bom.movie_gross.csv\")\n",
    "gross.head()"
   ]
  },
  {
   "cell_type": "markdown",
   "metadata": {},
   "source": [
    "##### THIRD DATASET -movie budgets\n",
    "Used to assess budget-related profitability."
   ]
  },
  {
   "cell_type": "code",
   "execution_count": null,
   "metadata": {},
   "outputs": [],
   "source": [
    "## THIRD DATASET\n",
    "budget = pd.read_csv(\"zippedData/tn.movie_budgets.csv\")\n",
    "budget.head()"
   ]
  },
  {
   "cell_type": "markdown",
   "metadata": {},
   "source": [
    "###### FOURTH DATASET - movie info\n",
    "Allows us to categorize movies, essential for identifying high-performing genres\n"
   ]
  },
  {
   "cell_type": "code",
   "execution_count": null,
   "metadata": {},
   "outputs": [],
   "source": [
    "# FOURTH DATASET\n",
    "movie_info = pd.read_csv(\"zippedData/rt.movie_info.tsv\",sep=\"\\t\")\n",
    "movie_info.head()"
   ]
  },
  {
   "cell_type": "markdown",
   "metadata": {},
   "source": [
    "####  Data Understanding \n",
    "In this section we are going to examine our data for better understanding before we start working on it. The section helps us ascertain the shape of the number of rows and columns(`shape`). We also get a slight summary of the data displaying column names, number of non-null values and the Dtype of the column contents(`info`).When dealing with continous data, we can have a brief statistical summary of the columns with intergers or float data types(`.describe`)"
   ]
  },
  {
   "cell_type": "markdown",
   "metadata": {},
   "source": [
    "######  .info Function\n",
    "This returns the summary of the data frame"
   ]
  },
  {
   "cell_type": "code",
   "execution_count": null,
   "metadata": {},
   "outputs": [],
   "source": [
    "# first dataset\n",
    "imdb.info()"
   ]
  },
  {
   "cell_type": "code",
   "execution_count": null,
   "metadata": {},
   "outputs": [],
   "source": [
    "# second dataset \n",
    "gross.info()"
   ]
  },
  {
   "cell_type": "code",
   "execution_count": null,
   "metadata": {},
   "outputs": [],
   "source": [
    "#  third dataset\n",
    "budget.info()"
   ]
  },
  {
   "cell_type": "code",
   "execution_count": null,
   "metadata": {},
   "outputs": [],
   "source": [
    "# fourth dataset \n",
    "movie_info.info()"
   ]
  },
  {
   "cell_type": "markdown",
   "metadata": {},
   "source": [
    "###### .columns Function\n",
    "This returns column labels of each dataframe"
   ]
  },
  {
   "cell_type": "code",
   "execution_count": null,
   "metadata": {},
   "outputs": [],
   "source": [
    "# First DataSet\n",
    "imdb.columns"
   ]
  },
  {
   "cell_type": "code",
   "execution_count": null,
   "metadata": {},
   "outputs": [],
   "source": [
    "# Second DataSet\n",
    "gross.columns"
   ]
  },
  {
   "cell_type": "code",
   "execution_count": null,
   "metadata": {},
   "outputs": [],
   "source": [
    "# Third DataSet\n",
    "budget.columns"
   ]
  },
  {
   "cell_type": "code",
   "execution_count": null,
   "metadata": {},
   "outputs": [],
   "source": [
    "# Fourth DataSet \n",
    "movie_info.columns"
   ]
  },
  {
   "cell_type": "markdown",
   "metadata": {},
   "source": [
    "###### .describe Function \n",
    "This returns the descriptive statistics of the dataframe"
   ]
  },
  {
   "cell_type": "code",
   "execution_count": null,
   "metadata": {},
   "outputs": [],
   "source": [
    "# First DataSet\n",
    "imdb.describe()"
   ]
  },
  {
   "cell_type": "code",
   "execution_count": null,
   "metadata": {},
   "outputs": [],
   "source": [
    "# Second DataSet \n",
    "gross.describe()"
   ]
  },
  {
   "cell_type": "code",
   "execution_count": null,
   "metadata": {},
   "outputs": [],
   "source": [
    "# Third Dataset\n",
    "budget.describe()"
   ]
  },
  {
   "cell_type": "code",
   "execution_count": null,
   "metadata": {},
   "outputs": [],
   "source": [
    "# Fourth DataSet\n",
    "movie_info.describe()"
   ]
  },
  {
   "cell_type": "markdown",
   "metadata": {},
   "source": [
    "###### .shape Function\n",
    "This returns number of rows and columns."
   ]
  },
  {
   "cell_type": "code",
   "execution_count": null,
   "metadata": {},
   "outputs": [],
   "source": [
    "# First DataSet\n",
    "imdb.shape"
   ]
  },
  {
   "cell_type": "code",
   "execution_count": null,
   "metadata": {},
   "outputs": [],
   "source": [
    "# Seond DataSeta\n",
    "gross.shape"
   ]
  },
  {
   "cell_type": "code",
   "execution_count": null,
   "metadata": {},
   "outputs": [],
   "source": [
    "# Third DataSet\n",
    "budget.shape"
   ]
  },
  {
   "cell_type": "code",
   "execution_count": null,
   "metadata": {},
   "outputs": [],
   "source": [
    "# Fourth DataSet\n",
    "movie_info.shape"
   ]
  },
  {
   "cell_type": "markdown",
   "metadata": {},
   "source": [
    "We are working with four different datasets for this project. The first one named **imdb** has 73856 rows and 5 columns.It was sourced from ... .It has all the three types of data namely Float, intergers and objects. The data here helps us analyse the `genres, titles, runtime minutes and the ratings of movies`\n",
    "\n",
    "The second dataset is named **gross** and it has 3387 rows and 5 columns. It was sourced from ... .It has Float, intergers and objects as dataypes. The data here helps us analyse income generated as it contains columns with `domestic and foreign gross data.`\n",
    "\n",
    "The third dataset is named **budget** and it has 5782 rows and 6 columns. It was sourced from ... . The datatypes in this dataset are intergers and objects only. It has columns that can help us calculate the budget of producing a movie i.e `production_budget`. We can also see seasonal trends as it has a column with information on dates. \n",
    "\n",
    "The last dataset is named **movie_info** and it has 1560 rows and 12 columns. It is sourced from ... . The datatypes in this dataset are intergers and objects only. It has columns with information about `writer, director, studio` etc that can help us make informed reccomendations at the end of the project\n"
   ]
  },
  {
   "cell_type": "markdown",
   "metadata": {},
   "source": [
    "`Data clening will follow below`"
   ]
  },
  {
   "cell_type": "code",
   "execution_count": null,
   "metadata": {},
   "outputs": [],
   "source": []
  }
 ],
 "metadata": {
  "kernelspec": {
   "display_name": "Python 3",
   "language": "python",
   "name": "python3"
  },
  "language_info": {
   "codemirror_mode": {
    "name": "ipython",
    "version": 3
   },
   "file_extension": ".py",
   "mimetype": "text/x-python",
   "name": "python",
   "nbconvert_exporter": "python",
   "pygments_lexer": "ipython3",
   "version": "3.8.5"
  }
 },
 "nbformat": 4,
 "nbformat_minor": 2
}
