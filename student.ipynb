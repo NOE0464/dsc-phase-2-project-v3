{
 "cells": [
  {
   "cell_type": "markdown",
   "metadata": {},
   "source": [
    "## Final Project Submission\n",
    "\n",
    "Please fill out:\n",
    "* Student names: Christopher Noel, Margaret Nyairo, Victor Masinde, James Ngumo, Anthony Ekeno. \n",
    "* Student pace: full time \n",
    "* Instructor name: Maryann Mwikali\n"
   ]
  },
  {
   "cell_type": "markdown",
   "metadata": {},
   "source": [
    " Market Analysis & Insights For Strategic Movie Production\n",
    "\n",
    "## Business Understanding\n",
    "\n",
    "### Overview\n",
    "This project is designed to aid a company's venture into the movie production industry by launching a new studio. Through comprehensive data analysis, the project will identify current trends and provide actionable insights from box office data. This information will guide the company in determining the types of movies that are most successful in today’s market, thereby supporting strategic content creation and maximizing box office returns\n",
    "\n",
    "###  The Problem Statement\n",
    "The company needs to pinpoint what types of movies are most successful in the current market to propel the new studio's launch. Specifically, we aim to:\n",
    "\n",
    "1. **Identify the Genres Performing Well at the Box Office**: Determine which movie genres are currently popular and yield high box office returns.\n",
    "   \n",
    "2. **Analyze Movie Budgets and Profitability**: Evaluate the relationship between production budgets, returns, and overall profitability to find the optimal investment range.\n",
    "   \n",
    "3. **Assess Audience Demographics Driving Success**: Understand which demographic segments are contributing significantly to box office revenues.\n",
    "   \n",
    "4. **Recommend Optimal Release Seasons or Windows**: Identify the best times of the year for releasing movies to maximize box office performance.\n",
    "\n",
    "### Main objectives\n",
    "To identify the most successful types of films currently at the box office and translate these insights into actionable strategies that guide the new movie studio's production choices, ensuring competitive and commercial success in the film industry.\n"
   ]
  },
  {
   "cell_type": "markdown",
   "metadata": {},
   "source": [
    " ## Data Wrangling\n",
    " "
   ]
  },
  {
   "cell_type": "markdown",
   "metadata": {},
   "source": [
    "\n",
    " ### import libraries\n",
    "First we import the necessary packages for Exploratory data analysis.\n"
   ]
  },
  {
   "cell_type": "code",
   "execution_count": 1,
   "metadata": {},
   "outputs": [],
   "source": [
    "# Importing libraries\n",
    "import pandas as pd\n",
    "import numpy as np\n",
    "import matplotlib.pyplot as plt\n",
    "import seaborn as sns\n",
    "import sqlite3 \n",
    "\n",
    "%matplotlib inline\n"
   ]
  },
  {
   "cell_type": "markdown",
   "metadata": {},
   "source": [
    "### Exploratory Data Analysis\n",
    "\n",
    "The data used in this analysis contains data collected from various popular movie sites such as Box Office Mojo, IMDb, rotten tomato reviews. It contains detailed information on movie titles, actors, directors, box office earnings, and movie ratings.\n",
    "1. im.db\n",
    "\n",
    "2. box office mojo\n",
    "\n",
    "3. movie budgets \n",
    "\n",
    "4. movie info \n",
    "\n",
    "\n",
    " "
   ]
  },
  {
   "cell_type": "markdown",
   "metadata": {},
   "source": [
    "### Import Data sets\n",
    "\n"
   ]
  },
  {
   "cell_type": "markdown",
   "metadata": {},
   "source": [
    "##### First Dataset - im.db\n",
    "This dataset will form root basis of analysis"
   ]
  },
  {
   "cell_type": "code",
   "execution_count": 2,
   "metadata": {},
   "outputs": [
    {
     "data": {
      "text/html": [
       "<div>\n",
       "<style scoped>\n",
       "    .dataframe tbody tr th:only-of-type {\n",
       "        vertical-align: middle;\n",
       "    }\n",
       "\n",
       "    .dataframe tbody tr th {\n",
       "        vertical-align: top;\n",
       "    }\n",
       "\n",
       "    .dataframe thead th {\n",
       "        text-align: right;\n",
       "    }\n",
       "</style>\n",
       "<table border=\"1\" class=\"dataframe\">\n",
       "  <thead>\n",
       "    <tr style=\"text-align: right;\">\n",
       "      <th></th>\n",
       "      <th>type</th>\n",
       "      <th>name</th>\n",
       "      <th>tbl_name</th>\n",
       "      <th>rootpage</th>\n",
       "      <th>sql</th>\n",
       "    </tr>\n",
       "  </thead>\n",
       "  <tbody>\n",
       "  </tbody>\n",
       "</table>\n",
       "</div>"
      ],
      "text/plain": [
       "Empty DataFrame\n",
       "Columns: [type, name, tbl_name, rootpage, sql]\n",
       "Index: []"
      ]
     },
     "execution_count": 2,
     "metadata": {},
     "output_type": "execute_result"
    }
   ],
   "source": [
    "#FIRST DATA SET IM.DB- \n",
    "\n",
    "#establishing a connection with database.\n",
    "conn = sqlite3.connect(\"zippedData/im.db\")\n",
    "cur = conn.cursor()\n",
    "\n",
    "#opening the database\n",
    "\n",
    "pd.read_sql(\"\"\"\n",
    "SELECT*\n",
    "FROM sqlite_master\n",
    "\"\"\",conn) "
   ]
  },
  {
   "cell_type": "markdown",
   "metadata": {},
   "source": [
    "###### An Entity Relationship Diagram [ERD]\n",
    "-Below is an ERD explaining further contents contained in tables shown above\n",
    "\n",
    "-After studying each column name in the ERD below, we discover that we are interested in the contenct of two tables. These are; **movie_basics and movie_ratings**  since they have contents that will be vital to our analysis.\n",
    "\n",
    "-Analyse structure of the tables by using **JOIN** statement to combine them."
   ]
  },
  {
   "cell_type": "markdown",
   "metadata": {},
   "source": [
    "![Alt text](movie_data_erd.jpeg)"
   ]
  },
  {
   "cell_type": "markdown",
   "metadata": {},
   "source": [
    "######  JOIN tables[ movie basics + movie ratings]  to create a new dataframe  **imdb**"
   ]
  },
  {
   "cell_type": "code",
   "execution_count": 3,
   "metadata": {},
   "outputs": [
    {
     "ename": "DatabaseError",
     "evalue": "Execution failed on sql '\nSELECT primary_title,start_year,runtime_minutes,genres,averagerating\nFROM movie_basics\nJOIN movie_ratings\nUSING(\"movie_id\")\n': no such table: movie_basics",
     "output_type": "error",
     "traceback": [
      "\u001b[1;31m---------------------------------------------------------------------------\u001b[0m",
      "\u001b[1;31mOperationalError\u001b[0m                          Traceback (most recent call last)",
      "\u001b[1;32m~\\anaconda3\\New folder\\envs\\learn-env\\lib\\site-packages\\pandas\\io\\sql.py\u001b[0m in \u001b[0;36mexecute\u001b[1;34m(self, *args, **kwargs)\u001b[0m\n\u001b[0;32m   1680\u001b[0m         \u001b[1;32mtry\u001b[0m\u001b[1;33m:\u001b[0m\u001b[1;33m\u001b[0m\u001b[1;33m\u001b[0m\u001b[0m\n\u001b[1;32m-> 1681\u001b[1;33m             \u001b[0mcur\u001b[0m\u001b[1;33m.\u001b[0m\u001b[0mexecute\u001b[0m\u001b[1;33m(\u001b[0m\u001b[1;33m*\u001b[0m\u001b[0margs\u001b[0m\u001b[1;33m,\u001b[0m \u001b[1;33m**\u001b[0m\u001b[0mkwargs\u001b[0m\u001b[1;33m)\u001b[0m\u001b[1;33m\u001b[0m\u001b[1;33m\u001b[0m\u001b[0m\n\u001b[0m\u001b[0;32m   1682\u001b[0m             \u001b[1;32mreturn\u001b[0m \u001b[0mcur\u001b[0m\u001b[1;33m\u001b[0m\u001b[1;33m\u001b[0m\u001b[0m\n",
      "\u001b[1;31mOperationalError\u001b[0m: no such table: movie_basics",
      "\nThe above exception was the direct cause of the following exception:\n",
      "\u001b[1;31mDatabaseError\u001b[0m                             Traceback (most recent call last)",
      "\u001b[1;32m<ipython-input-3-e819fb4e5b6d>\u001b[0m in \u001b[0;36m<module>\u001b[1;34m\u001b[0m\n\u001b[0;32m      3\u001b[0m \u001b[1;31m#JOIN to movie_ratings\u001b[0m\u001b[1;33m\u001b[0m\u001b[1;33m\u001b[0m\u001b[1;33m\u001b[0m\u001b[0m\n\u001b[0;32m      4\u001b[0m \u001b[1;33m\u001b[0m\u001b[0m\n\u001b[1;32m----> 5\u001b[1;33m imdb = pd.read_sql(\"\"\"\n\u001b[0m\u001b[0;32m      6\u001b[0m \u001b[0mSELECT\u001b[0m \u001b[0mprimary_title\u001b[0m\u001b[1;33m,\u001b[0m\u001b[0mstart_year\u001b[0m\u001b[1;33m,\u001b[0m\u001b[0mruntime_minutes\u001b[0m\u001b[1;33m,\u001b[0m\u001b[0mgenres\u001b[0m\u001b[1;33m,\u001b[0m\u001b[0maveragerating\u001b[0m\u001b[1;33m\u001b[0m\u001b[1;33m\u001b[0m\u001b[0m\n\u001b[0;32m      7\u001b[0m \u001b[0mFROM\u001b[0m \u001b[0mmovie_basics\u001b[0m\u001b[1;33m\u001b[0m\u001b[1;33m\u001b[0m\u001b[0m\n",
      "\u001b[1;32m~\\anaconda3\\New folder\\envs\\learn-env\\lib\\site-packages\\pandas\\io\\sql.py\u001b[0m in \u001b[0;36mread_sql\u001b[1;34m(sql, con, index_col, coerce_float, params, parse_dates, columns, chunksize)\u001b[0m\n\u001b[0;32m    481\u001b[0m \u001b[1;33m\u001b[0m\u001b[0m\n\u001b[0;32m    482\u001b[0m     \u001b[1;32mif\u001b[0m \u001b[0misinstance\u001b[0m\u001b[1;33m(\u001b[0m\u001b[0mpandas_sql\u001b[0m\u001b[1;33m,\u001b[0m \u001b[0mSQLiteDatabase\u001b[0m\u001b[1;33m)\u001b[0m\u001b[1;33m:\u001b[0m\u001b[1;33m\u001b[0m\u001b[1;33m\u001b[0m\u001b[0m\n\u001b[1;32m--> 483\u001b[1;33m         return pandas_sql.read_query(\n\u001b[0m\u001b[0;32m    484\u001b[0m             \u001b[0msql\u001b[0m\u001b[1;33m,\u001b[0m\u001b[1;33m\u001b[0m\u001b[1;33m\u001b[0m\u001b[0m\n\u001b[0;32m    485\u001b[0m             \u001b[0mindex_col\u001b[0m\u001b[1;33m=\u001b[0m\u001b[0mindex_col\u001b[0m\u001b[1;33m,\u001b[0m\u001b[1;33m\u001b[0m\u001b[1;33m\u001b[0m\u001b[0m\n",
      "\u001b[1;32m~\\anaconda3\\New folder\\envs\\learn-env\\lib\\site-packages\\pandas\\io\\sql.py\u001b[0m in \u001b[0;36mread_query\u001b[1;34m(self, sql, index_col, coerce_float, params, parse_dates, chunksize)\u001b[0m\n\u001b[0;32m   1725\u001b[0m \u001b[1;33m\u001b[0m\u001b[0m\n\u001b[0;32m   1726\u001b[0m         \u001b[0margs\u001b[0m \u001b[1;33m=\u001b[0m \u001b[0m_convert_params\u001b[0m\u001b[1;33m(\u001b[0m\u001b[0msql\u001b[0m\u001b[1;33m,\u001b[0m \u001b[0mparams\u001b[0m\u001b[1;33m)\u001b[0m\u001b[1;33m\u001b[0m\u001b[1;33m\u001b[0m\u001b[0m\n\u001b[1;32m-> 1727\u001b[1;33m         \u001b[0mcursor\u001b[0m \u001b[1;33m=\u001b[0m \u001b[0mself\u001b[0m\u001b[1;33m.\u001b[0m\u001b[0mexecute\u001b[0m\u001b[1;33m(\u001b[0m\u001b[1;33m*\u001b[0m\u001b[0margs\u001b[0m\u001b[1;33m)\u001b[0m\u001b[1;33m\u001b[0m\u001b[1;33m\u001b[0m\u001b[0m\n\u001b[0m\u001b[0;32m   1728\u001b[0m         \u001b[0mcolumns\u001b[0m \u001b[1;33m=\u001b[0m \u001b[1;33m[\u001b[0m\u001b[0mcol_desc\u001b[0m\u001b[1;33m[\u001b[0m\u001b[1;36m0\u001b[0m\u001b[1;33m]\u001b[0m \u001b[1;32mfor\u001b[0m \u001b[0mcol_desc\u001b[0m \u001b[1;32min\u001b[0m \u001b[0mcursor\u001b[0m\u001b[1;33m.\u001b[0m\u001b[0mdescription\u001b[0m\u001b[1;33m]\u001b[0m\u001b[1;33m\u001b[0m\u001b[1;33m\u001b[0m\u001b[0m\n\u001b[0;32m   1729\u001b[0m \u001b[1;33m\u001b[0m\u001b[0m\n",
      "\u001b[1;32m~\\anaconda3\\New folder\\envs\\learn-env\\lib\\site-packages\\pandas\\io\\sql.py\u001b[0m in \u001b[0;36mexecute\u001b[1;34m(self, *args, **kwargs)\u001b[0m\n\u001b[0;32m   1691\u001b[0m \u001b[1;33m\u001b[0m\u001b[0m\n\u001b[0;32m   1692\u001b[0m             \u001b[0mex\u001b[0m \u001b[1;33m=\u001b[0m \u001b[0mDatabaseError\u001b[0m\u001b[1;33m(\u001b[0m\u001b[1;34mf\"Execution failed on sql '{args[0]}': {exc}\"\u001b[0m\u001b[1;33m)\u001b[0m\u001b[1;33m\u001b[0m\u001b[1;33m\u001b[0m\u001b[0m\n\u001b[1;32m-> 1693\u001b[1;33m             \u001b[1;32mraise\u001b[0m \u001b[0mex\u001b[0m \u001b[1;32mfrom\u001b[0m \u001b[0mexc\u001b[0m\u001b[1;33m\u001b[0m\u001b[1;33m\u001b[0m\u001b[0m\n\u001b[0m\u001b[0;32m   1694\u001b[0m \u001b[1;33m\u001b[0m\u001b[0m\n\u001b[0;32m   1695\u001b[0m     \u001b[1;33m@\u001b[0m\u001b[0mstaticmethod\u001b[0m\u001b[1;33m\u001b[0m\u001b[1;33m\u001b[0m\u001b[0m\n",
      "\u001b[1;31mDatabaseError\u001b[0m: Execution failed on sql '\nSELECT primary_title,start_year,runtime_minutes,genres,averagerating\nFROM movie_basics\nJOIN movie_ratings\nUSING(\"movie_id\")\n': no such table: movie_basics"
     ]
    }
   ],
   "source": [
    "## merge required tables then convert it to a dataframe\n",
    "#Select relevant information from movie_basics table\n",
    "#JOIN to movie_ratings\n",
    "\n",
    "imdb = pd.read_sql(\"\"\"\n",
    "SELECT primary_title,start_year,runtime_minutes,genres,averagerating\n",
    "FROM movie_basics\n",
    "JOIN movie_ratings\n",
    "USING(\"movie_id\")\n",
    "\"\"\",conn)\n",
    "imdb"
   ]
  },
  {
   "cell_type": "markdown",
   "metadata": {},
   "source": [
    "##### SECOND DATASET  -box office mojo gross\n",
    "Essential for understanding box office success and profitability."
   ]
  },
  {
   "cell_type": "code",
   "execution_count": null,
   "metadata": {},
   "outputs": [],
   "source": [
    "## SECOND DATASET \n",
    "gross = pd.read_csv(\"zippedData/bom.movie_gross.csv.gz\")\n",
    "gross.head()"
   ]
  },
  {
   "cell_type": "markdown",
   "metadata": {},
   "source": [
    "##### THIRD DATASET -movie budgets\n",
    "Used to assess budget-related profitability."
   ]
  },
  {
   "cell_type": "code",
   "execution_count": null,
   "metadata": {},
   "outputs": [],
   "source": [
    "## THIRD DATASET\n",
    "budget = pd.read_csv(\"zippedData/tn.movie_budgets.csv.gz\")\n",
    "budget.head()"
   ]
  },
  {
   "cell_type": "markdown",
   "metadata": {},
   "source": [
    "###### FOURTH DATASET - movie info\n",
    "Allows us to categorize movies, essential for identifying high-performing genres\n"
   ]
  },
  {
   "cell_type": "code",
   "execution_count": null,
   "metadata": {},
   "outputs": [],
   "source": [
    "# FOURTH DATASET\n",
    "movie_info = pd.read_csv(\"zippedData/rt.movie_info.tsv.gz\",sep=\"\\t\")\n",
    "movie_info.head()"
   ]
  },
  {
   "cell_type": "markdown",
   "metadata": {},
   "source": [
    "####  Data Understanding \n",
    "In this section we are going to examine our data for better understanding before we start working on it. The section helps us ascertain the number of rows and columns(`.shape`). We also get a slight summary of the data displaying column names, number of non-null values and the Dtype of the column contents(`info`).When dealing with continous data, we can have a brief statistical summary of the columns with intergers or float data types(`.describe`)"
   ]
  },
  {
   "cell_type": "markdown",
   "metadata": {},
   "source": [
    "######  .info Function\n",
    "This returns the summary of the data frame"
   ]
  },
  {
   "cell_type": "code",
   "execution_count": null,
   "metadata": {},
   "outputs": [],
   "source": [
    "# first dataset\n",
    "imdb.info()"
   ]
  },
  {
   "cell_type": "code",
   "execution_count": null,
   "metadata": {},
   "outputs": [],
   "source": [
    "# second dataset \n",
    "gross.info()"
   ]
  },
  {
   "cell_type": "code",
   "execution_count": null,
   "metadata": {},
   "outputs": [],
   "source": [
    "#  third dataset\n",
    "budget.info()"
   ]
  },
  {
   "cell_type": "code",
   "execution_count": null,
   "metadata": {},
   "outputs": [],
   "source": [
    "# fourth dataset \n",
    "movie_info.info()"
   ]
  },
  {
   "cell_type": "markdown",
   "metadata": {},
   "source": [
    "###### .columns Function\n",
    "This returns column labels of each dataframe"
   ]
  },
  {
   "cell_type": "code",
   "execution_count": null,
   "metadata": {},
   "outputs": [],
   "source": [
    "# First DataSet\n",
    "imdb.columns"
   ]
  },
  {
   "cell_type": "code",
   "execution_count": null,
   "metadata": {},
   "outputs": [],
   "source": [
    "# Second DataSet\n",
    "gross.columns"
   ]
  },
  {
   "cell_type": "code",
   "execution_count": null,
   "metadata": {},
   "outputs": [],
   "source": [
    "# Third DataSet\n",
    "budget.columns"
   ]
  },
  {
   "cell_type": "code",
   "execution_count": null,
   "metadata": {},
   "outputs": [],
   "source": [
    "# Fourth DataSet \n",
    "movie_info.columns"
   ]
  },
  {
   "cell_type": "markdown",
   "metadata": {},
   "source": [
    "###### .describe Function \n",
    "This returns the descriptive statistics of the dataframe"
   ]
  },
  {
   "cell_type": "code",
   "execution_count": null,
   "metadata": {},
   "outputs": [],
   "source": [
    "# First DataSet\n",
    "imdb.describe()"
   ]
  },
  {
   "cell_type": "code",
   "execution_count": null,
   "metadata": {},
   "outputs": [],
   "source": [
    "# Second DataSet \n",
    "gross.describe()"
   ]
  },
  {
   "cell_type": "code",
   "execution_count": null,
   "metadata": {},
   "outputs": [],
   "source": [
    "# Third Dataset\n",
    "budget.describe()"
   ]
  },
  {
   "cell_type": "code",
   "execution_count": null,
   "metadata": {},
   "outputs": [],
   "source": [
    "# Fourth DataSet\n",
    "movie_info.describe()"
   ]
  },
  {
   "cell_type": "markdown",
   "metadata": {},
   "source": [
    "###### .shape  function \n",
    "-This returns number of rows , columns"
   ]
  },
  {
   "cell_type": "code",
   "execution_count": null,
   "metadata": {},
   "outputs": [],
   "source": [
    "# First DataSet\n",
    "imdb.shape"
   ]
  },
  {
   "cell_type": "code",
   "execution_count": null,
   "metadata": {},
   "outputs": [],
   "source": [
    "# Seond DataSet\n",
    "gross.shape"
   ]
  },
  {
   "cell_type": "code",
   "execution_count": null,
   "metadata": {},
   "outputs": [],
   "source": [
    "# Third DataSet\n",
    "budget.shape"
   ]
  },
  {
   "cell_type": "code",
   "execution_count": null,
   "metadata": {},
   "outputs": [],
   "source": [
    "# Fourth DataSet\n",
    "movie_info.shape"
   ]
  },
  {
   "cell_type": "markdown",
   "metadata": {},
   "source": [
    "We are working with four different datasets for this project. The first one named **imdb** has 73856 rows and 5 columns.It was sourced from internet. It has all the three types of data namely Float, intergers and objects. The data here helps us analyse the `genres, titles, runtime minutes and the ratings of movies`\n",
    "\n",
    "The second dataset is named **gross** and it has 3387 rows and 5 columns. It was sourced from internet. It has Float, intergers and objects as dataypes. The data here helps us analyse income generated as it contains columns with `domestic and foreign gross data.`\n",
    "\n",
    "The third dataset is named **budget** and it has 5782 rows and 6 columns. It was sourced from internet. The datatypes in this dataset are intergers and objects only. It has columns that can help us calculate the budget of producing a movie i.e `production_budget`. We can also see seasonal trends as it has a column with information on dates. \n",
    "\n",
    "The last dataset is named **movie_info** and it has 1560 rows and 12 columns. It is sourced from internet. The datatypes in this dataset are intergers and objects only. It has columns with information about `writer, director, studio` etc that can help us make informed reccomendations at the end of the project\n"
   ]
  },
  {
   "cell_type": "markdown",
   "metadata": {},
   "source": [
    "# Data cleaning\n",
    " Modify the data set in some manner to correct erroneous data, remove redundancies;\n",
    " \n",
    " PART A\n",
    "\n",
    " checking for `missing values`\n",
    " \n",
    " checking for `Duplicates`\n",
    " \n",
    " PART B\n",
    " \n",
    " deciding whether to fill/drop missing values& duplicates\n",
    " \n",
    " dropping Columns {based(1&2)/ on irrelevance }"
   ]
  },
  {
   "cell_type": "markdown",
   "metadata": {},
   "source": [
    "#### Part A \n",
    "##### checking for missing values in DataSets"
   ]
  },
  {
   "cell_type": "code",
   "execution_count": null,
   "metadata": {},
   "outputs": [],
   "source": [
    "## First DataSet %missing_Values\n",
    "imdb.isnull().mean()*100"
   ]
  },
  {
   "cell_type": "code",
   "execution_count": null,
   "metadata": {},
   "outputs": [],
   "source": [
    "# Second DataSet %missing_Values\n",
    "gross.isnull().mean()*100"
   ]
  },
  {
   "cell_type": "code",
   "execution_count": null,
   "metadata": {},
   "outputs": [],
   "source": [
    "# Third DataSet %missing_Values\n",
    "budget.isnull().mean()*100"
   ]
  },
  {
   "cell_type": "code",
   "execution_count": null,
   "metadata": {},
   "outputs": [],
   "source": [
    "# Fourth DataSet %missing_Values\n",
    "movie_info.isnull().mean()*100"
   ]
  },
  {
   "cell_type": "markdown",
   "metadata": {},
   "source": [
    "####  check for duplicates in DataSets"
   ]
  },
  {
   "cell_type": "code",
   "execution_count": null,
   "metadata": {},
   "outputs": [],
   "source": [
    "# FirstDataSet -duplicates--has 1 duplicate\n",
    "imdb.duplicated().value_counts()"
   ]
  },
  {
   "cell_type": "code",
   "execution_count": null,
   "metadata": {},
   "outputs": [],
   "source": [
    "# SecondDataSet - duplicates--has no duplicates\n",
    "gross.duplicated().value_counts()"
   ]
  },
  {
   "cell_type": "code",
   "execution_count": null,
   "metadata": {},
   "outputs": [],
   "source": [
    "# ThirdDataSet -duplicates--has no duplicates\n",
    "budget.duplicated().value_counts()"
   ]
  },
  {
   "cell_type": "code",
   "execution_count": null,
   "metadata": {},
   "outputs": [],
   "source": [
    "# FourthDataSet -duplicates--has no duplicates\n",
    "movie_info.duplicated().value_counts()"
   ]
  },
  {
   "cell_type": "markdown",
   "metadata": {},
   "source": [
    "### Part B  \n",
    "-Drop `duplicates`\n",
    "\n",
    "-Drop `rows` with missing_values\n",
    "\n",
    "-Drop `columns` based on relevance & consistency"
   ]
  },
  {
   "cell_type": "code",
   "execution_count": null,
   "metadata": {},
   "outputs": [],
   "source": [
    "# code drops duplicated rows in the imdb DataSet\n",
    "imdb.drop_duplicates(inplace=True)\n",
    "imdb.duplicated().value_counts()"
   ]
  },
  {
   "cell_type": "code",
   "execution_count": null,
   "metadata": {},
   "outputs": [],
   "source": [
    "# # The code below drop rows with missing values permanently\n",
    "imdb.dropna(subset=['runtime_minutes',  'genres',], inplace=True)\n",
    "imdb"
   ]
  },
  {
   "cell_type": "code",
   "execution_count": null,
   "metadata": {},
   "outputs": [],
   "source": [
    "# Check to confirm no more missing values in dataframe\n",
    "imdb.isna().sum()"
   ]
  },
  {
   "cell_type": "markdown",
   "metadata": {},
   "source": [
    "##### Dropping Columns\n",
    "-`movie_info & budget` , have a common column with the same name `id`\n",
    "\n",
    "-On further analysis the columns have no corelation. To retain consistency we drop "
   ]
  },
  {
   "cell_type": "code",
   "execution_count": null,
   "metadata": {},
   "outputs": [],
   "source": [
    "## drop 'id' column form budget DataSet\n",
    "budget.drop(columns=['id'], inplace=True)"
   ]
  },
  {
   "cell_type": "markdown",
   "metadata": {},
   "source": [
    "###### For movie_info we decide to drop the columns  currency & box office , since they had 78% missing values and would cause inconsistencies in our data"
   ]
  },
  {
   "cell_type": "code",
   "execution_count": null,
   "metadata": {},
   "outputs": [],
   "source": [
    "#We drop columns that have been noted \n",
    "movie_info.drop(columns=['currency', 'box_office', 'id'], inplace=True)"
   ]
  },
  {
   "cell_type": "markdown",
   "metadata": {},
   "source": [
    "### Data Transformation\n",
    "-Converting the datatypes in our datasets to enable manipulation\n",
    "\n",
    "-`gross[foreign_gross]-&-budget[domestic_gross,producion_budget,worldwide_gross]`  the columns in this dataset are  `object` datatype,this means the numeric figures are read like `strings` instead of numbers. So to have clarity ,we convert them to `float datatype` for more accurate readings"
   ]
  },
  {
   "cell_type": "code",
   "execution_count": null,
   "metadata": {
    "scrolled": true
   },
   "outputs": [],
   "source": [
    "# Second DataSet-- gross\n",
    "# Changing data type from an object to a float\n",
    "\n",
    "gross['foreign_gross'] = gross['foreign_gross'].replace({'\\$': '', ',': ''}, regex=True).astype(float)\n",
    "gross.info()\n"
   ]
  },
  {
   "cell_type": "markdown",
   "metadata": {},
   "source": [
    "###### converting budget columns`domestic_gross`, `production_budget`, `worldwide_gross` to `float datatype`\n"
   ]
  },
  {
   "cell_type": "code",
   "execution_count": null,
   "metadata": {},
   "outputs": [],
   "source": [
    "# List of columns to clean and convert to float\n",
    "columns_converted = ['domestic_gross', 'production_budget', 'worldwide_gross']\n",
    "\n",
    "# Loop through each column, replace the unwanted characters, and convert to float\n",
    "for column in columns_converted:\n",
    "    budget[column] = budget[column].replace({'\\$': '', ',': ''}, regex=True).astype(float)"
   ]
  },
  {
   "cell_type": "code",
   "execution_count": null,
   "metadata": {},
   "outputs": [],
   "source": [
    "budget.info()"
   ]
  },
  {
   "cell_type": "markdown",
   "metadata": {},
   "source": [
    "# Data Merging\n",
    "-Having a cleaned data versions we perform  `.merge`\n",
    "\n",
    "-Merging data frames combines multiple datasets into a single, unified dataset, allowing for a more comprehensive analysis.\n",
    "\n",
    "-Merging the datasets will enable us to explain more with visualization for better understanding of our objective"
   ]
  },
  {
   "cell_type": "markdown",
   "metadata": {},
   "source": [
    "##### First Merge \n",
    "-The gross & imdb  dataset\n",
    "\n",
    "-We perform a inner join ; we use this to retain all rows from both dataframes with matching keys, that is :\n",
    "\n",
    "-gross[title]---imdb[primary_title]"
   ]
  },
  {
   "cell_type": "code",
   "execution_count": null,
   "metadata": {},
   "outputs": [],
   "source": [
    "## merge imdb & gross\n",
    "mer = pd.merge(gross, imdb, left_on='title', right_on='primary_title', how='inner')\n",
    "mer"
   ]
  },
  {
   "cell_type": "markdown",
   "metadata": {},
   "source": [
    "##### Second Merge\n",
    "-The second merger consists of combining newly merged dataset   with movie_info\n",
    "\n",
    "-`(gross,imdb)mer `+ `movie_info`\n",
    "\n",
    "-we merge using `innerjoin ` since the datasets have a common column name `studio`\n"
   ]
  },
  {
   "cell_type": "code",
   "execution_count": null,
   "metadata": {},
   "outputs": [],
   "source": [
    "#Merge the datasets on common columns---(gross,imdb) + movie_info\n",
    "merged_df = pd.merge(mer, movie_info, on='studio')\n",
    "merged_df"
   ]
  },
  {
   "cell_type": "markdown",
   "metadata": {},
   "source": [
    "#### Final Merge---- gross + imdb + info + budget\n",
    "-Combine all 4 Datasets into a singular dataframe\n",
    "\n",
    "-`(gross,imdb,info)merged_df + budget`\n",
    "\n",
    "--we merge using innerjoin since the datasets have a common column name `domestic_gross`"
   ]
  },
  {
   "cell_type": "code",
   "execution_count": null,
   "metadata": {},
   "outputs": [],
   "source": [
    "#The next merge\n",
    "#Merge the datasets on common columns---gross.imdb,info,budget\n",
    "merged_df2 = pd.merge(merged_df, budget, on='domestic_gross')\n",
    "merged_df2"
   ]
  },
  {
   "cell_type": "markdown",
   "metadata": {},
   "source": [
    "##### Final Analysis of  our new data frame"
   ]
  },
  {
   "cell_type": "code",
   "execution_count": null,
   "metadata": {},
   "outputs": [],
   "source": [
    "# has 90 rows & 22 columns\n",
    "merged_df2.shape"
   ]
  },
  {
   "cell_type": "code",
   "execution_count": null,
   "metadata": {},
   "outputs": [],
   "source": [
    "# Final COLUMN NAMES\n",
    "merged_df2.columns"
   ]
  },
  {
   "cell_type": "code",
   "execution_count": null,
   "metadata": {},
   "outputs": [],
   "source": [
    "# Final DESCRIPTIVE STATISTICS -percentile, mean , standard deviation\n",
    "merged_df2.describe()"
   ]
  },
  {
   "cell_type": "markdown",
   "metadata": {},
   "source": [
    "### Data Grouping -.groupby()\n",
    "\n",
    "\n",
    "-We use -.groubby() ; to group relevant data together/separate identical data into groups to allow for further aggregation and analysis \n",
    "\n",
    "-From our new data frame we analyse given columns; `'title', 'studio', 'domestic_gross', 'foreign_gross', 'year',\n",
    "       'primary_title', 'start_year', 'runtime_minutes', 'genres',\n",
    "       'averagerating', 'synopsis', 'rating', 'genre', 'director', 'writer',\n",
    "       'theater_date', 'dvd_date', 'runtime', 'release_date', 'movie',\n",
    "       'production_budget', 'worldwide_gross'`\n",
    "\n",
    "-will enable us to explain more with visualization for better understanding of our objective\n"
   ]
  },
  {
   "cell_type": "markdown",
   "metadata": {},
   "source": [
    "###### groupby()-{movie}Rating and comparing their different earnings with DOMESTIC vs FOREIGN earnings\n",
    "-`demographic perfomance `; this aligns population interests according to the `rating` hereby giving as the chance to \n",
    "analyse how the ratings are perceived `locally`, `internationally` and the `total` outcome"
   ]
  },
  {
   "cell_type": "code",
   "execution_count": null,
   "metadata": {},
   "outputs": [],
   "source": [
    "demographic_performance = merged_df2.groupby('rating')[['domestic_gross', 'foreign_gross']].sum()\n",
    "demographic_performance"
   ]
  },
  {
   "cell_type": "markdown",
   "metadata": {},
   "source": [
    "create a new column `total_gross` on grouped dataframe"
   ]
  },
  {
   "cell_type": "code",
   "execution_count": null,
   "metadata": {},
   "outputs": [],
   "source": [
    "demographic_performance['total_gross'] = demographic_performance['domestic_gross'] + demographic_performance['foreign_gross']\n",
    "demographic_performance"
   ]
  },
  {
   "cell_type": "markdown",
   "metadata": {},
   "source": [
    "###### demographic-perfomance\n",
    "first visual - two bar plots are used to visualize the total domestic and foreign gross by movie rating.\n",
    "\n",
    "second visual -  a bar plot is used to display the total gross by rating, to get general overview ."
   ]
  },
  {
   "cell_type": "code",
   "execution_count": null,
   "metadata": {
    "scrolled": true
   },
   "outputs": [],
   "source": [
    "# Resetting index to use ratings as a column\n",
    "demographic_performance.reset_index(inplace=True)\n",
    "\n",
    "# Setting the plot style\n",
    "sns.set(style='whitegrid')\n",
    "\n",
    "# Create a bar plot for domestic gross\n",
    "plt.figure(figsize=(12, 6))\n",
    "\n",
    "# Plotting Domestic Gross\n",
    "plt.subplot(1, 2, 1)\n",
    "sns.barplot(x='rating', y='domestic_gross', data=demographic_performance, palette='Blues')\n",
    "plt.title('Total Domestic Gross by Rating')\n",
    "plt.xlabel('Rating')\n",
    "plt.ylabel('Domestic Gross ($)')\n",
    "\n",
    "# Plotting Foreign Gross\n",
    "plt.subplot(1, 2, 2)\n",
    "sns.barplot(x='rating', y='foreign_gross', data=demographic_performance, palette='Oranges')\n",
    "plt.title('Total Foreign Gross by Rating')\n",
    "plt.xlabel('Rating')\n",
    "plt.ylabel('Foreign Gross ($)')\n",
    "\n",
    "# Show the plots\n",
    "plt.tight_layout()\n",
    "plt.show()"
   ]
  },
  {
   "cell_type": "markdown",
   "metadata": {},
   "source": [
    "-`PG-13` have highest earnings domestically\n",
    "\n",
    "-`R` have highest earnings in the foreign markets"
   ]
  },
  {
   "cell_type": "code",
   "execution_count": null,
   "metadata": {},
   "outputs": [],
   "source": [
    "sns.set(style='whitegrid')\n",
    "\n",
    "# Create a bar plot for total gross by release month\n",
    "plt.figure(figsize=(12, 6))\n",
    "sns.barplot(x='rating', y='total_gross', data=demographic_performance, palette='viridis')\n",
    "plt.title('Total Gross by Rating')\n",
    "plt.xlabel('Rating')\n",
    "plt.ylabel('Total Gross ($)')\n",
    "plt.xticks(rotation=45)  # Rotate x-axis labels for better readability\n",
    "\n",
    "# Show the plot\n",
    "plt.tight_layout()\n",
    "plt.show()"
   ]
  },
  {
   "cell_type": "markdown",
   "metadata": {},
   "source": [
    "`R` has the highest total earnings "
   ]
  },
  {
   "cell_type": "markdown",
   "metadata": {},
   "source": [
    "##### groupby()- to check Monthly Perfomance Profitability\n",
    "-This Grouping is done to identify most popular time to release movies\n",
    "\n",
    "-The function **pd.to_datetime** converts our theatre date from  string Date time into Python Date time object.Then creates a new column **release_month**"
   ]
  },
  {
   "cell_type": "code",
   "execution_count": null,
   "metadata": {},
   "outputs": [],
   "source": [
    "#seasonal release per month\n",
    "merged_df2['release_month'] = pd.to_datetime(merged_df2['theater_date']).dt.month\n",
    "merged_df2"
   ]
  },
  {
   "cell_type": "markdown",
   "metadata": {},
   "source": [
    "###### monthly_perfomance \n",
    "-`release_month`- newly formed column gives us the three months in which movies are released\n",
    "\n",
    "-`domestic & foreign gross`-revenues by month of release ie locally and internationally\n",
    "\n",
    "-`total_gross`- a new column is created in grouped dataset to give a summary of gross revenue per month "
   ]
  },
  {
   "cell_type": "code",
   "execution_count": null,
   "metadata": {},
   "outputs": [],
   "source": [
    "seasonal_performance = merged_df2.groupby('release_month')[['domestic_gross', 'foreign_gross']].sum().reset_index()\n",
    "seasonal_performance\n",
    "# ## creating a new column \"total gross\"\n",
    "seasonal_performance['total_gross'] = seasonal_performance['domestic_gross'] + seasonal_performance['foreign_gross']\n",
    "seasonal_performance"
   ]
  },
  {
   "cell_type": "markdown",
   "metadata": {},
   "source": [
    "##### plots to show how three different months (`JUNE`, `SEPTEMBER`, `OCTOBER`) had most earnings\n",
    "\n",
    "-first visual- compares the different months earnings locally & internationally\n",
    "\n",
    "-second visual- compiles the `foreign + domestic gross` to give the `total` outcome of the seasons"
   ]
  },
  {
   "cell_type": "code",
   "execution_count": null,
   "metadata": {},
   "outputs": [],
   "source": [
    "\n",
    "seasonal_performance.plot(x='release_month', y=['domestic_gross', 'foreign_gross'], kind='bar', figsize=(10,5))\n",
    "plt.title('Month Performance')\n",
    "plt.ylabel('Gross')\n",
    "plt.xlabel('Months')\n",
    "plt.xticks(rotation=10, ha='right')\n",
    "plt.tight_layout()\n",
    "plt.show()"
   ]
  },
  {
   "cell_type": "markdown",
   "metadata": {},
   "source": [
    "`JUNE` domestic gross is higher than foreign gross \n",
    "\n",
    "`SEPTENBER` foreign gross is higher than the domestic gross\n",
    "\n",
    "`OCTOBER` foreign gross is higher than domestic gross"
   ]
  },
  {
   "cell_type": "code",
   "execution_count": null,
   "metadata": {},
   "outputs": [],
   "source": [
    "# Using visualization to show seasonal performance of domestic and foreign gross\n",
    "# Setting the plot style\n",
    "sns.set(style='whitegrid')\n",
    "\n",
    "# Create a bar plot for total gross by release month\n",
    "plt.figure(figsize=(12, 6))\n",
    "sns.barplot(x='release_month', y='total_gross', data=seasonal_performance, palette='viridis')\n",
    "plt.title('Total Gross by Release Month')\n",
    "plt.xlabel('Release Month')\n",
    "plt.ylabel('Total Gross ($)')\n",
    "plt.xticks(rotation=45)  # Rotate x-axis labels for better readability\n",
    "\n",
    "# Show the plot\n",
    "plt.tight_layout()\n",
    "plt.show()"
   ]
  },
  {
   "cell_type": "markdown",
   "metadata": {},
   "source": [
    "`JUNE`  lowest total returns\n",
    "\n",
    "`SEPTEMBER` higher returns than `JUNE`\n",
    "\n",
    "`OCTOBER`  the highest total returns than `SEPTEMBER & JUNE`"
   ]
  },
  {
   "cell_type": "markdown",
   "metadata": {},
   "source": [
    "###### Correlation coefficients-  measure the strength and direction of a linear relationship\n",
    "-1 indicates a perfect negative correlation: as one variable increases, the other variable decreases.\n",
    "\n",
    "0 indicates no correlation: there is no linear relationship between the two variables.\n",
    "\n",
    "1 indicates a perfect positive correlation: as one variable increases, the other variable also increases."
   ]
  },
  {
   "cell_type": "code",
   "execution_count": null,
   "metadata": {},
   "outputs": [],
   "source": [
    "# finding direct relationships in  our dataset\n",
    "coeff = merged_df2.corr()\n",
    "coeff"
   ]
  },
  {
   "cell_type": "code",
   "execution_count": null,
   "metadata": {},
   "outputs": [],
   "source": [
    "##plotting a heatmap \n",
    "plt.figure(figsize=(12, 8))  \n",
    "sns.heatmap(coeff, annot=True, cbar_kws={'label': 'correlation coefficient'})\n",
    "\n",
    "plt.title('Basis') \n",
    "plt.show()"
   ]
  },
  {
   "cell_type": "markdown",
   "metadata": {},
   "source": [
    "Domestic Gross and Worldwide Gross (0.800886): There is a strong positive correlation, suggesting that movies with higher domestic gross tend to have higher worldwide gross. This is expected, as domestic earnings often contribute significantly to total earnings."
   ]
  },
  {
   "cell_type": "code",
   "execution_count": null,
   "metadata": {},
   "outputs": [],
   "source": [
    "# Group by studio and sum the production budgets\n",
    "budget_studio = merged_df2.groupby('studio')['production_budget'].sum().reset_index()\n",
    "\n",
    "# Sort the data by production_budget \n",
    "budget_studio = budget_studio.sort_values(by='production_budget')\n",
    "\n",
    "# Plot\n",
    "plt.figure(figsize=(10, 6))\n",
    "sns.barplot(data=budget_studio, x='production_budget', y='studio', palette='viridis')\n",
    "plt.title('Studio Budgets')\n",
    "plt.xlabel('Total Production Budget (in $)')\n",
    "plt.ylabel('Studio')\n",
    "plt.show()"
   ]
  },
  {
   "cell_type": "markdown",
   "metadata": {},
   "source": [
    "`Fox` lowest production budget\n",
    "\n",
    "`IFC & WB`moderate production budget\n",
    "\n",
    "`A24` highest production budget"
   ]
  },
  {
   "cell_type": "markdown",
   "metadata": {},
   "source": [
    "##### groupby() genre \n",
    "-`genre`; to find out which is most popular in market, the total earnings `domestically & internationally`\n",
    "\n",
    "-create a new column `total_gross` for general  comparison "
   ]
  },
  {
   "cell_type": "code",
   "execution_count": null,
   "metadata": {},
   "outputs": [],
   "source": [
    "genre_performance = merged_df2.groupby('genre')[['domestic_gross', 'foreign_gross']].sum()\n",
    "genre_performance['total_gross'] = genre_performance['domestic_gross'] + genre_performance['foreign_gross']\n",
    "genre_performance"
   ]
  },
  {
   "cell_type": "code",
   "execution_count": null,
   "metadata": {},
   "outputs": [],
   "source": [
    "# Reset index for plotting\n",
    "genre_performance = genre_performance.reset_index()\n",
    "\n",
    "# Plotting\n",
    "plt.figure(figsize=(12, 8))\n",
    "\n",
    "# Create a bar plot for total gross by genre\n",
    "sns.barplot(data=genre_performance, x='total_gross', y='genre', palette='viridis')\n",
    "\n",
    "plt.title('Total Gross Earnings by Genre (Domestic + Foreign)')\n",
    "plt.xlabel('Total Gross Earnings (in $)')\n",
    "plt.ylabel('Genre')\n",
    "plt.show()"
   ]
  },
  {
   "cell_type": "markdown",
   "metadata": {},
   "source": [
    "`Drama/Mystery and Suspense` genre with highest total earnings \n",
    "\n",
    "`Comedy/Drama` genre with lower earnings\n",
    "\n",
    "`Drama/Horror` genre with the lowest earnings "
   ]
  },
  {
   "cell_type": "markdown",
   "metadata": {},
   "source": [
    "###### second visual- plot to show popularity of genres "
   ]
  },
  {
   "cell_type": "code",
   "execution_count": null,
   "metadata": {},
   "outputs": [],
   "source": [
    "plt.figure(figsize=(12,10))\n",
    "merged_df2['genres'].hist(bins=37)\n",
    "plt.title('Histogram of Genres')\n",
    "plt.xticks(rotation=90, ha='right')\n",
    "plt.tight_layout()\n",
    "plt.show()"
   ]
  },
  {
   "cell_type": "markdown",
   "metadata": {},
   "source": [
    "these are the most popular genres in the industry\n",
    "\n",
    "`Documentary` \n",
    "\n",
    "`Comedy,Drama,History` \n",
    "\n",
    "`Action, Thriller & Comedy,Drama,Thriller`"
   ]
  },
  {
   "cell_type": "markdown",
   "metadata": {},
   "source": [
    "#### saving our dataframe to excel for Tableau Analysis"
   ]
  },
  {
   "cell_type": "code",
   "execution_count": null,
   "metadata": {},
   "outputs": [],
   "source": [
    "###convert dataframe to excel format\n",
    "merged_df2.to_excel('film_analysis.xlsx', index=False)"
   ]
  },
  {
   "cell_type": "markdown",
   "metadata": {},
   "source": [
    "### Conclusions"
   ]
  },
  {
   "cell_type": "markdown",
   "metadata": {},
   "source": [
    "`Demographics Driving Success:\n",
    "-The analysis of ratings indicates that PG-13 rated movies have the highest domestic earnings, while R-rated movies perform better in foreign markets. This suggests that different ratings attract different audience segments.`\n",
    "\n"
   ]
  },
  {
   "cell_type": "markdown",
   "metadata": {},
   "source": [
    "`Optimal Release Seasons:\n",
    "-The analysis of monthly performance shows that October has the highest total gross, followed by September, while June has the lowest total returns. This indicates that the fall(SEPT/OCT) season may be the most lucrative time for movie releases.\n",
    "-The foreign gross tends to outperform domestic gross in September and October, suggesting that these months may attract a more international audience.`"
   ]
  },
  {
   "cell_type": "markdown",
   "metadata": {},
   "source": [
    "`Movie Budgets and Profitability:\n",
    "-There is a strong positive correlation (0.800886) between domestic gross and worldwide gross, suggesting that movies with higher domestic earnings tend to perform well globally.\n",
    "-The analysis of studio budgets shows that A24 has the highest production budget, which may correlate with its success in producing high-grossing films.\n",
    "-Studios like Fox have lower production budgets, which may limit their ability to produce high-grossing films.`"
   ]
  },
  {
   "cell_type": "markdown",
   "metadata": {},
   "source": [
    "`Most popular Gernres;\n",
    "-Documentary\n",
    "-Comedy,Drama,History\n",
    "-Action, Thriller & Comedy,Drama,Thriller\n",
    "-These are the most popular genres in the movie industry`\n"
   ]
  },
  {
   "cell_type": "markdown",
   "metadata": {},
   "source": [
    "\n",
    "The new studio can make informed decisions that align with current market trends, audience preferences, and optimal release strategies. This approach will help ensure competitive and commercial success in the film industry, ultimately leading to a successful launch and sustained growth for the studio."
   ]
  },
  {
   "cell_type": "markdown",
   "metadata": {},
   "source": [
    "\n"
   ]
  },
  {
   "cell_type": "markdown",
   "metadata": {},
   "source": [
    "## Recommendations"
   ]
  },
  {
   "cell_type": "markdown",
   "metadata": {},
   "source": [
    "We would recommend the company to focus on :\n",
    "\n",
    "High-Performing Genres:The new studio should prioritize producing films in the`Documentary` , it yield's high box office returns.\n",
    "\n",
    "Strategic Release Timing: Plan major releases for the fall months `(September and October)` to capitalize on higher audience turnout and box office performance. September has highest returns on Domestic market while October has highest returns in the Foreign market\n",
    "\n",
    "Budget Allocation : since we want to minimize cost and it is not necessarily correct that a high production budget relates to higher returns. The optimal solution would be choosing  the studio with the lowest production budget , which is `Fox`\n",
    "\n",
    "Target Audience: Marketing strategies based on the ratings that perform best in different markets. For instance, focus on PG-13 ratings for domestic releases and R ratings for international markets.\n",
    " \n",
    "If interested in other options, consider the following genres ; `Comedy/Drama/History, Action/Thriller & Comedy/Drama/Thriller`.\n",
    "\n",
    "If interested in other studios with favorable budgets, consider ; ` Independent Film Channel(IFC) & Warner Bros(WB)`.\n",
    "\n"
   ]
  },
  {
   "cell_type": "code",
   "execution_count": null,
   "metadata": {},
   "outputs": [],
   "source": []
  }
 ],
 "metadata": {
  "kernelspec": {
   "display_name": "Python 3",
   "language": "python",
   "name": "python3"
  },
  "language_info": {
   "codemirror_mode": {
    "name": "ipython",
    "version": 3
   },
   "file_extension": ".py",
   "mimetype": "text/x-python",
   "name": "python",
   "nbconvert_exporter": "python",
   "pygments_lexer": "ipython3",
   "version": "3.8.5"
  }
 },
 "nbformat": 4,
 "nbformat_minor": 2
}
